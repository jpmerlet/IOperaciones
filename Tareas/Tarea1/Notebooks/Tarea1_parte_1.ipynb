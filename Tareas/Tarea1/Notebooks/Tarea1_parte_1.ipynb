{
 "cells": [
  {
   "cell_type": "code",
   "execution_count": 67,
   "metadata": {},
   "outputs": [
    {
     "data": {
      "text/plain": [
       "6.99999781043684"
      ]
     },
     "execution_count": 67,
     "metadata": {},
     "output_type": "execute_result"
    }
   ],
   "source": [
    "N = 90; # cantidad de alumnos a entrevistar\n",
    "V = zeros(N+1,7); # Matriz que almacena el valor esperado de la calidad del ayudante contratado\n",
    "for etapa = N:-1:1\n",
    "    for I_N = 1:7\n",
    "        # calcular valor esperado de la opcion futura\n",
    "        E = (1/7)*sum(V[etapa+1,:]);\n",
    "        if I_N <= E\n",
    "            V[etapa,I_N] = E;\n",
    "        else\n",
    "            V[etapa,I_N] = I_N;\n",
    "        end\n",
    "    end\n",
    "end\n",
    "# calcular \n",
    "(1/7)*sum(V[1,:])"
   ]
  }
 ],
 "metadata": {
  "kernelspec": {
   "display_name": "Julia 0.6.2",
   "language": "julia",
   "name": "julia-0.6"
  },
  "language_info": {
   "file_extension": ".jl",
   "mimetype": "application/julia",
   "name": "julia",
   "version": "0.6.2"
  }
 },
 "nbformat": 4,
 "nbformat_minor": 2
}
