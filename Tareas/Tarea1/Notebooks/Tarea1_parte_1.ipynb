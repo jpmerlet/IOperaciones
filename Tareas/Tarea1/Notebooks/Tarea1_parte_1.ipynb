{
 "cells": [
  {
   "cell_type": "code",
   "execution_count": 14,
   "metadata": {},
   "outputs": [
    {
     "name": "stdout",
     "output_type": "stream",
     "text": [
      "4.857142857142857"
     ]
    }
   ],
   "source": [
    "N = 2;# cantidad de alumnos a entrevistar\n",
    "V = zeros(N+1,7); # almacenar el el valor maximo de la calidad dada una etapa n y calidad i\n",
    "X = zeros(N,7); # matriz que almacenará las decisiones \n",
    "for etapa = N:-1:1\n",
    "    for I_N = 1:7\n",
    "        # calcular valor esperado de la opcion futura\n",
    "        E = (1/7)*sum(V[etapa+1,:]);\n",
    "        if I_N <= E\n",
    "            V[etapa,I_N] = E;\n",
    "            X[etapa,I_N] = 0;\n",
    "        else\n",
    "            V[etapa,I_N] = I_N;\n",
    "            X[:,I_N] = zeros(N,1); # dejar un 1 solo donde se escogió al estudiante por primera vez\n",
    "            X[etapa,I_N] = 1;\n",
    "            \n",
    "        end\n",
    "    end\n",
    "end\n",
    "# imprimir el valor maximo esperado\n",
    "print((1/7)*sum(V[1,:]))"
   ]
  },
  {
   "cell_type": "code",
   "execution_count": 30,
   "metadata": {},
   "outputs": [],
   "source": [
    "# hacer el mismo calculo para varios N y despues plotear\n",
    "V_max = zeros(90,1);\n",
    "for N=90:-1:1\n",
    "    V = zeros(N+1,7);\n",
    "    for etapa = N:-1:1\n",
    "        for I_N = 1:7\n",
    "            # calcular valor esperado de la opcion futura\n",
    "            E = (1/7)*sum(V[etapa+1,:]);\n",
    "            if I_N <= E\n",
    "                V[etapa,I_N] = E;\n",
    "            else\n",
    "                V[etapa,I_N] = I_N;\n",
    "            end\n",
    "        end\n",
    "    end\n",
    "    V_max[N] = (1/7)*sum(V[1,:]);\n",
    "end"
   ]
  },
  {
   "cell_type": "code",
   "execution_count": 21,
   "metadata": {
    "collapsed": true
   },
   "outputs": [
    {
     "name": "stderr",
     "output_type": "stream",
     "text": [
      "\u001b[1m\u001b[36mINFO: \u001b[39m\u001b[22m\u001b[36mPrecompiling module PyPlot.\n",
      "\u001b[39m\u001b[1m\u001b[36mINFO: \u001b[39m\u001b[22m\u001b[36mInstalling matplotlib via the Conda matplotlib package...\n",
      "\u001b[39m"
     ]
    },
    {
     "name": "stdout",
     "output_type": "stream",
     "text": [
      "Solving environment: ...working... done\n"
     ]
    },
    {
     "name": "stderr",
     "output_type": "stream",
     "text": [
      "\n",
      "\n",
      "==> WARNING: A newer version of conda exists. <==\n",
      "  current version: 4.4.10\n",
      "  latest version: 4.5.1\n",
      "\n",
      "Please update conda by running\n",
      "\n",
      "    $ conda update -n base conda\n",
      "\n",
      "\n",
      "singledispatch 3.4.0.3: ########## | 100% \n",
      "pyparsing 2.2.0: ########## | 100% \n",
      "freetype 2.8: ########## | 100% \n",
      "backports.functools_lru_cache 1.5: ########## | 100% \n",
      "pytz 2018.4: ########## | 100% \n",
      "backports 1.0: ########## | 100% \n",
      "libpng 1.6.34: ########## | 100% \n",
      "tornado 5.0.2: ########## | 100% \n",
      "kiwisolver 1.0.1: ########## | 100% \n",
      "cycler 0.10.0: ########## | 100% \n",
      "python-dateutil 2.7.2: ########## | 100% \n",
      "matplotlib 2.2.2: ########## | 100% \n",
      "functools32 3.2.3.2: ########## | 100% \n",
      "backports_abc 0.5: ########## | 100% \n",
      "subprocess32 3.2.7: ###1       |  31% "
     ]
    },
    {
     "name": "stdout",
     "output_type": "stream",
     "text": [
      "\n",
      "## Package Plan ##\n",
      "\n",
      "  environment location: /Users/juanpablodonosomerlet/.julia/v0.6/Conda/deps/usr\n",
      "\n",
      "  added / updated specs: \n",
      "    - matplotlib\n",
      "\n",
      "\n",
      "The following packages will be downloaded:\n",
      "\n",
      "    package                    |            build\n",
      "    ---------------------------|-----------------\n",
      "    singledispatch-3.4.0.3     |   py27he22c18d_0          15 KB\n",
      "    pyparsing-2.2.0            |   py27h5bb6aaf_0          94 KB\n",
      "    freetype-2.8               |       h12048fb_1         840 KB\n",
      "    backports.functools_lru_cache-1.5|           py27_1           9 KB\n",
      "    pytz-2018.4                |           py27_0         211 KB\n",
      "    backports-1.0              |   py27hb4f9756_1           3 KB\n",
      "    libpng-1.6.34              |       he12f830_0         319 KB\n",
      "    tornado-5.0.2              |           py27_0         622 KB\n",
      "    kiwisolver-1.0.1           |   py27h9856860_0          57 KB\n",
      "    cycler-0.10.0              |   py27hfc73c78_0          13 KB\n",
      "    python-dateutil-2.7.2      |           py27_0         254 KB\n",
      "    matplotlib-2.2.2           |   py27ha7267d0_0         6.5 MB\n",
      "    functools32-3.2.3.2        |   py27h8ceab06_1          22 KB\n",
      "    backports_abc-0.5          |   py27h6972548_0          12 KB\n",
      "    subprocess32-3.2.7         |   py27h24b2887_0          38 KB\n",
      "    ------------------------------------------------------------\n",
      "                                           Total:         9.0 MB\n",
      "\n",
      "The following NEW packages will be INSTALLED:\n",
      "\n",
      "    backports:                     1.0-py27hb4f9756_1    \n",
      "    backports.functools_lru_cache: 1.5-py27_1            \n",
      "    backports_abc:                 0.5-py27h6972548_0    \n",
      "    cycler:                        0.10.0-py27hfc73c78_0 \n",
      "    freetype:                      2.8-h12048fb_1        \n",
      "    functools32:                   3.2.3.2-py27h8ceab06_1\n",
      "    kiwisolver:                    1.0.1-py27h9856860_0  \n",
      "    libpng:                        1.6.34-he12f830_0     \n",
      "    matplotlib:                    2.2.2-py27ha7267d0_0  \n",
      "    pyparsing:                     2.2.0-py27h5bb6aaf_0  \n",
      "    python-dateutil:               2.7.2-py27_0          \n",
      "    pytz:                          2018.4-py27_0         \n",
      "    singledispatch:                3.4.0.3-py27he22c18d_0\n",
      "    subprocess32:                  3.2.7-py27h24b2887_0  \n",
      "    tornado:                       5.0.2-py27_0          \n",
      "\n",
      "\n",
      "Downloading and Extracting Packages\n",
      "Preparing transaction: ...working... "
     ]
    },
    {
     "name": "stderr",
     "output_type": "stream",
     "text": [
      "\r",
      "subprocess32 3.2.7: #######7   |  78% \r",
      "subprocess32 3.2.7: ########## | 100% \n"
     ]
    },
    {
     "name": "stdout",
     "output_type": "stream",
     "text": [
      "done\n",
      "Verifying transaction: ...working... done\n",
      "Executing transaction: ...working... done\n"
     ]
    },
    {
     "name": "stderr",
     "output_type": "stream",
     "text": [
      "WARNING: using PyPlot.plot in module Main conflicts with an existing identifier.\n"
     ]
    }
   ],
   "source": [
    "using Plots;\n",
    "using PyPlot"
   ]
  },
  {
   "cell_type": "code",
   "execution_count": 33,
   "metadata": {},
   "outputs": [
    {
     "data": {
      "application/vnd.plotly.v1+json": {
       "data": [
        {
         "colorbar": {
          "title": ""
         },
         "line": {
          "color": "rgba(0, 154, 250, 1.000)",
          "dash": "solid",
          "shape": "linear",
          "width": 1
         },
         "mode": "lines",
         "name": "Calificacion Esperada",
         "showlegend": true,
         "type": "scatter",
         "x": [
          1,
          2,
          3,
          4,
          5,
          6,
          7,
          8,
          9,
          10,
          11,
          12,
          13,
          14,
          15,
          16,
          17,
          18,
          19,
          20,
          21,
          22,
          23,
          24,
          25,
          26,
          27,
          28,
          29,
          30,
          31,
          32,
          33,
          34,
          35,
          36,
          37,
          38,
          39,
          40,
          41,
          42,
          43,
          44,
          45,
          46,
          47,
          48,
          49,
          50,
          51,
          52,
          53,
          54,
          55,
          56,
          57,
          58,
          59,
          60,
          61,
          62,
          63,
          64,
          65,
          66,
          67,
          68,
          69,
          70,
          71,
          72,
          73,
          74,
          75,
          76,
          77,
          78,
          79,
          80,
          81,
          82,
          83,
          84,
          85,
          86,
          87,
          88,
          89,
          90
         ],
         "xaxis": "x1",
         "y": [
          4,
          4.857142857142857,
          5.346938775510204,
          5.676384839650146,
          5.911703456892961,
          6.079788183494972,
          6.211247014424261,
          6.323926012363652,
          6.420508010597414,
          6.50329258051207,
          6.574250783296059,
          6.635072099968051,
          6.687204657115471,
          6.7318897060989755,
          6.770191176656264,
          6.803021008562512,
          6.831160864482152,
          6.855280740984701,
          6.875954920844029,
          6.893675646437739,
          6.908864839803777,
          6.921884148403238,
          6.933043555774203,
          6.942608762092174,
          6.950807510364721,
          6.957835008884047,
          6.963858579043468,
          6.969021639180116,
          6.973447119297242,
          6.977240387969064,
          6.98049176111634,
          6.983278652385434,
          6.985667416330372,
          6.987714928283176,
          6.989469938528437,
          6.9909742330243745,
          6.992263628306606,
          6.993368824262804,
          6.994316135082403,
          6.995128115784916,
          6.995824099244214,
          6.996420656495041,
          6.996931991281464,
          6.997370278241254,
          6.997745952778218,
          6.998067959524187,
          6.998343965306445,
          6.998580541691238,
          6.998783321449633,
          6.998957132671114,
          6.999106113718097,
          6.999233811758369,
          6.99934326722146,
          6.999437086189823,
          6.99951750244842,
          6.999586430670074,
          6.999645512002919,
          6.99969615314536,
          6.999739559838879,
          6.999776765576182,
          6.999808656208155,
          6.999835991035561,
          6.999859420887624,
          6.999879503617963,
          6.999896717386825,
          6.9999114720458495,
          6.999924118896442,
          6.999934959054093,
          6.999944250617794,
          6.999952214815252,
          6.999959041270216,
          6.999964892517328,
          6.999969907871995,
          6.999974206747423,
          6.999977891497791,
          6.999981049855249,
          6.999983757018785,
          6.999986077444672,
          6.999988066381147,
          6.99998977118384,
          6.999991232443291,
          6.999992484951393,
          6.999993558529765,
          6.999994478739798,
          6.999995267491255,
          6.999995943563933,
          6.999996523054799,
          6.999997019761255,
          6.9999974455096465,
          6.99999781043684
         ],
         "yaxis": "y1"
        }
       ],
       "layout": {
        "annotations": [],
        "height": 400,
        "legend": {
         "bgcolor": "rgba(255, 255, 255, 1.000)",
         "bordercolor": "rgba(0, 0, 0, 1.000)",
         "font": {
          "color": "rgba(0, 0, 0, 1.000)",
          "family": "sans-serif",
          "size": 11
         },
         "x": 1,
         "y": 1
        },
        "margin": {
         "b": 20,
         "l": 0,
         "r": 0,
         "t": 20
        },
        "paper_bgcolor": "rgba(255, 255, 255, 1.000)",
        "plot_bgcolor": "rgba(255, 255, 255, 1.000)",
        "showlegend": true,
        "width": 600,
        "xaxis1": {
         "anchor": "y1",
         "domain": [
          0.05100612423447069,
          0.9934383202099737
         ],
         "gridcolor": "rgba(0, 0, 0, 0.100)",
         "gridwidth": 0.5,
         "linecolor": "rgba(0, 0, 0, 1.000)",
         "mirror": false,
         "range": [
          1,
          90
         ],
         "showgrid": true,
         "showline": true,
         "showticklabels": true,
         "tickangle": 0,
         "tickcolor": "rgb(0, 0, 0)",
         "tickfont": {
          "color": "rgba(0, 0, 0, 1.000)",
          "family": "sans-serif",
          "size": 11
         },
         "tickmode": "array",
         "ticks": "inside",
         "ticktext": [
          "20",
          "40",
          "60",
          "80"
         ],
         "tickvals": [
          20,
          40,
          60,
          80
         ],
         "title": "",
         "titlefont": {
          "color": "rgba(0, 0, 0, 1.000)",
          "family": "sans-serif",
          "size": 15
         },
         "type": "-",
         "visible": true,
         "zeroline": false,
         "zerolinecolor": "rgba(0, 0, 0, 1.000)"
        },
        "yaxis1": {
         "anchor": "x1",
         "domain": [
          0.03762029746281716,
          0.9901574803149606
         ],
         "gridcolor": "rgba(0, 0, 0, 0.100)",
         "gridwidth": 0.5,
         "linecolor": "rgba(0, 0, 0, 1.000)",
         "mirror": false,
         "range": [
          4,
          6.99999781043684
         ],
         "showgrid": true,
         "showline": true,
         "showticklabels": true,
         "tickangle": 0,
         "tickcolor": "rgb(0, 0, 0)",
         "tickfont": {
          "color": "rgba(0, 0, 0, 1.000)",
          "family": "sans-serif",
          "size": 11
         },
         "tickmode": "array",
         "ticks": "inside",
         "ticktext": [
          "4.0",
          "4.5",
          "5.0",
          "5.5",
          "6.0",
          "6.5"
         ],
         "tickvals": [
          4,
          4.5,
          5,
          5.5,
          6,
          6.5
         ],
         "title": "",
         "titlefont": {
          "color": "rgba(0, 0, 0, 1.000)",
          "family": "sans-serif",
          "size": 15
         },
         "type": "-",
         "visible": true,
         "zeroline": false,
         "zerolinecolor": "rgba(0, 0, 0, 1.000)"
        }
       }
      },
      "text/html": [
       "<script src=\"file:///Users/juanpablodonosomerlet/.julia/v0.6/Plots/src/backends/../../deps/plotly-latest.min.js\"></script>    <div id=\"4e4c5458-e2c2-47df-9a7c-1ab6d911288d\" style=\"width:600px;height:400px;\"></div>\n",
       "    <script>\n",
       "    PLOT = document.getElementById('4e4c5458-e2c2-47df-9a7c-1ab6d911288d');\n",
       "    Plotly.plot(PLOT, [{\"showlegend\":true,\"mode\":\"lines\",\"xaxis\":\"x1\",\"colorbar\":{\"title\":\"\"},\"line\":{\"color\":\"rgba(0, 154, 250, 1.000)\",\"shape\":\"linear\",\"dash\":\"solid\",\"width\":1},\"y\":[4.0,4.857142857142857,5.346938775510204,5.676384839650146,5.911703456892961,6.079788183494972,6.211247014424261,6.323926012363652,6.420508010597414,6.50329258051207,6.574250783296059,6.635072099968051,6.687204657115471,6.7318897060989755,6.770191176656264,6.803021008562512,6.831160864482152,6.855280740984701,6.875954920844029,6.893675646437739,6.908864839803777,6.921884148403238,6.933043555774203,6.942608762092174,6.950807510364721,6.957835008884047,6.963858579043468,6.969021639180116,6.973447119297242,6.977240387969064,6.98049176111634,6.983278652385434,6.985667416330372,6.987714928283176,6.989469938528437,6.9909742330243745,6.992263628306606,6.993368824262804,6.994316135082403,6.995128115784916,6.995824099244214,6.996420656495041,6.996931991281464,6.997370278241254,6.997745952778218,6.998067959524187,6.998343965306445,6.998580541691238,6.998783321449633,6.998957132671114,6.999106113718097,6.999233811758369,6.99934326722146,6.999437086189823,6.99951750244842,6.999586430670074,6.999645512002919,6.99969615314536,6.999739559838879,6.999776765576182,6.999808656208155,6.999835991035561,6.999859420887624,6.999879503617963,6.999896717386825,6.9999114720458495,6.999924118896442,6.999934959054093,6.999944250617794,6.999952214815252,6.999959041270216,6.999964892517328,6.999969907871995,6.999974206747423,6.999977891497791,6.999981049855249,6.999983757018785,6.999986077444672,6.999988066381147,6.99998977118384,6.999991232443291,6.999992484951393,6.999993558529765,6.999994478739798,6.999995267491255,6.999995943563933,6.999996523054799,6.999997019761255,6.9999974455096465,6.99999781043684],\"type\":\"scatter\",\"name\":\"Calificacion Esperada\",\"yaxis\":\"y1\",\"x\":[1,2,3,4,5,6,7,8,9,10,11,12,13,14,15,16,17,18,19,20,21,22,23,24,25,26,27,28,29,30,31,32,33,34,35,36,37,38,39,40,41,42,43,44,45,46,47,48,49,50,51,52,53,54,55,56,57,58,59,60,61,62,63,64,65,66,67,68,69,70,71,72,73,74,75,76,77,78,79,80,81,82,83,84,85,86,87,88,89,90]}], {\"showlegend\":true,\"paper_bgcolor\":\"rgba(255, 255, 255, 1.000)\",\"xaxis1\":{\"showticklabels\":true,\"gridwidth\":0.5,\"tickvals\":[20.0,40.0,60.0,80.0],\"visible\":true,\"ticks\":\"inside\",\"range\":[1.0,90.0],\"domain\":[0.05100612423447069,0.9934383202099737],\"tickmode\":\"array\",\"linecolor\":\"rgba(0, 0, 0, 1.000)\",\"showgrid\":true,\"title\":\"\",\"mirror\":false,\"tickangle\":0,\"showline\":true,\"gridcolor\":\"rgba(0, 0, 0, 0.100)\",\"titlefont\":{\"color\":\"rgba(0, 0, 0, 1.000)\",\"family\":\"sans-serif\",\"size\":15},\"tickcolor\":\"rgb(0, 0, 0)\",\"ticktext\":[\"20\",\"40\",\"60\",\"80\"],\"zeroline\":false,\"type\":\"-\",\"tickfont\":{\"color\":\"rgba(0, 0, 0, 1.000)\",\"family\":\"sans-serif\",\"size\":11},\"zerolinecolor\":\"rgba(0, 0, 0, 1.000)\",\"anchor\":\"y1\"},\"annotations\":[],\"height\":400,\"margin\":{\"l\":0,\"b\":20,\"r\":0,\"t\":20},\"plot_bgcolor\":\"rgba(255, 255, 255, 1.000)\",\"yaxis1\":{\"showticklabels\":true,\"gridwidth\":0.5,\"tickvals\":[4.0,4.5,5.0,5.5,6.0,6.5],\"visible\":true,\"ticks\":\"inside\",\"range\":[4.0,6.99999781043684],\"domain\":[0.03762029746281716,0.9901574803149606],\"tickmode\":\"array\",\"linecolor\":\"rgba(0, 0, 0, 1.000)\",\"showgrid\":true,\"title\":\"\",\"mirror\":false,\"tickangle\":0,\"showline\":true,\"gridcolor\":\"rgba(0, 0, 0, 0.100)\",\"titlefont\":{\"color\":\"rgba(0, 0, 0, 1.000)\",\"family\":\"sans-serif\",\"size\":15},\"tickcolor\":\"rgb(0, 0, 0)\",\"ticktext\":[\"4.0\",\"4.5\",\"5.0\",\"5.5\",\"6.0\",\"6.5\"],\"zeroline\":false,\"type\":\"-\",\"tickfont\":{\"color\":\"rgba(0, 0, 0, 1.000)\",\"family\":\"sans-serif\",\"size\":11},\"zerolinecolor\":\"rgba(0, 0, 0, 1.000)\",\"anchor\":\"x1\"},\"legend\":{\"bordercolor\":\"rgba(0, 0, 0, 1.000)\",\"bgcolor\":\"rgba(255, 255, 255, 1.000)\",\"font\":{\"color\":\"rgba(0, 0, 0, 1.000)\",\"family\":\"sans-serif\",\"size\":11},\"y\":1.0,\"x\":1.0},\"width\":600});\n",
       "    </script>\n"
      ]
     },
     "execution_count": 33,
     "metadata": {},
     "output_type": "execute_result"
    }
   ],
   "source": [
    "plot(1:1:90,V_max, label = \"Calificacion Esperada\")"
   ]
  }
 ],
 "metadata": {
  "kernelspec": {
   "display_name": "Julia 0.6.2",
   "language": "julia",
   "name": "julia-0.6"
  },
  "language_info": {
   "file_extension": ".jl",
   "mimetype": "application/julia",
   "name": "julia",
   "version": "0.6.2"
  }
 },
 "nbformat": 4,
 "nbformat_minor": 2
}
