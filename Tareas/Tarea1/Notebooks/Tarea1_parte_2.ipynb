{
 "cells": [
  {
   "cell_type": "code",
   "execution_count": null,
   "metadata": {
    "collapsed": true
   },
   "outputs": [],
   "source": [
    "using Combinatorics;\n",
    "N = 2;\n",
    "V = zeros(N+1,8);\n"
   ]
  },
  {
   "cell_type": "code",
   "execution_count": 38,
   "metadata": {},
   "outputs": [
    {
     "data": {
      "text/plain": [
       "7-element Array{Int64,1}:\n",
       " 1\n",
       " 2\n",
       " 3\n",
       " 4\n",
       " 5\n",
       " 6\n",
       " 7"
      ]
     },
     "execution_count": 38,
     "metadata": {},
     "output_type": "execute_result"
    }
   ],
   "source": [
    "filas"
   ]
  },
  {
   "cell_type": "code",
   "execution_count": 49,
   "metadata": {},
   "outputs": [
    {
     "data": {
      "text/plain": [
       "5040-element Array{Array{Int64,1},1}:\n",
       " [1, 2, 3, 4, 5, 6, 7]\n",
       " [1, 2, 3, 4, 5, 7, 6]\n",
       " [1, 2, 3, 4, 6, 5, 7]\n",
       " [1, 2, 3, 4, 6, 7, 5]\n",
       " [1, 2, 3, 4, 7, 5, 6]\n",
       " [1, 2, 3, 4, 7, 6, 5]\n",
       " [1, 2, 3, 5, 4, 6, 7]\n",
       " [1, 2, 3, 5, 4, 7, 6]\n",
       " [1, 2, 3, 5, 6, 4, 7]\n",
       " [1, 2, 3, 5, 6, 7, 4]\n",
       " [1, 2, 3, 5, 7, 4, 6]\n",
       " [1, 2, 3, 5, 7, 6, 4]\n",
       " [1, 2, 3, 6, 4, 5, 7]\n",
       " ⋮                    \n",
       " [7, 6, 5, 3, 1, 2, 4]\n",
       " [7, 6, 5, 3, 1, 4, 2]\n",
       " [7, 6, 5, 3, 2, 1, 4]\n",
       " [7, 6, 5, 3, 2, 4, 1]\n",
       " [7, 6, 5, 3, 4, 1, 2]\n",
       " [7, 6, 5, 3, 4, 2, 1]\n",
       " [7, 6, 5, 4, 1, 2, 3]\n",
       " [7, 6, 5, 4, 1, 3, 2]\n",
       " [7, 6, 5, 4, 2, 1, 3]\n",
       " [7, 6, 5, 4, 2, 3, 1]\n",
       " [7, 6, 5, 4, 3, 1, 2]\n",
       " [7, 6, 5, 4, 3, 2, 1]"
      ]
     },
     "execution_count": 49,
     "metadata": {},
     "output_type": "execute_result"
    }
   ],
   "source": [
    "filas = [1,2,3,4,5,6,7];\n",
    "sigma = permutations(filas) |> collect"
   ]
  },
  {
   "cell_type": "code",
   "execution_count": 44,
   "metadata": {},
   "outputs": [
    {
     "data": {
      "text/plain": [
       "combination_producer"
      ]
     },
     "execution_count": 44,
     "metadata": {},
     "output_type": "execute_result"
    }
   ],
   "source": [
    "\"\"\"\n",
    "Produces all `k`-combinations of integers in `1:l` with prefix `current`, in a\n",
    "lexicographical order.\n",
    "\n",
    "# Arguments\n",
    "- `current`: The current combination\n",
    "- `l`: The parent set size\n",
    "- `k`: The target combination size\n",
    "\"\"\"\n",
    "function combination_producer(l, k, current)\n",
    "    if k == length(current)\n",
    "        produce(current)\n",
    "    else\n",
    "        j = (length(current) > 0) ? (last(current)+1) : 1\n",
    "        for i=j:l\n",
    "            combination_producer(l, k, [current, i])\n",
    "        end\n",
    "    end\n",
    "end\n",
    "\n",
    "\"\"\"\n",
    "Produces all combinations of size `k` from `1:l` in a lexicographical order\n",
    "\"\"\"\n",
    "function combination_producer(l,k)\n",
    "    combination_producer(l,k, [])\n",
    "end"
   ]
  },
  {
   "cell_type": "code",
   "execution_count": 48,
   "metadata": {},
   "outputs": [
    {
     "ename": "LoadError",
     "evalue": "\u001b[91mMethodError: no method matching start(::Void)\u001b[0m\nClosest candidates are:\n  start(\u001b[91m::SimpleVector\u001b[39m) at essentials.jl:258\n  start(\u001b[91m::Base.MethodList\u001b[39m) at reflection.jl:560\n  start(\u001b[91m::ExponentialBackOff\u001b[39m) at error.jl:107\n  ...\u001b[39m",
     "output_type": "error",
     "traceback": [
      "\u001b[91mMethodError: no method matching start(::Void)\u001b[0m\nClosest candidates are:\n  start(\u001b[91m::SimpleVector\u001b[39m) at essentials.jl:258\n  start(\u001b[91m::Base.MethodList\u001b[39m) at reflection.jl:560\n  start(\u001b[91m::ExponentialBackOff\u001b[39m) at error.jl:107\n  ...\u001b[39m",
      "",
      "Stacktrace:",
      " [1] \u001b[1manonymous\u001b[22m\u001b[22m at \u001b[1m./<missing>:?\u001b[22m\u001b[22m"
     ]
    }
   ],
   "source": [
    "for c in combination_producer(7, 7)\n",
    "    c\n",
    "end"
   ]
  }
 ],
 "metadata": {
  "kernelspec": {
   "display_name": "Julia 0.6.2",
   "language": "julia",
   "name": "julia-0.6"
  },
  "language_info": {
   "file_extension": ".jl",
   "mimetype": "application/julia",
   "name": "julia",
   "version": "0.6.2"
  }
 },
 "nbformat": 4,
 "nbformat_minor": 2
}
