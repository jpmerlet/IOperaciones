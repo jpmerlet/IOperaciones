{
 "cells": [
  {
   "cell_type": "code",
   "execution_count": 1,
   "metadata": {},
   "outputs": [],
   "source": [
    "using Distributions, Mamba, Stan;"
   ]
  },
  {
   "cell_type": "code",
   "execution_count": 71,
   "metadata": {
    "collapsed": true
   },
   "outputs": [],
   "source": [
    "srand(123);\n",
    "N_max = 100;\n",
    "alpha = ones(7);\n",
    "\n",
    "# generar vector aleatorio p\n",
    "dirichlet = Dirichlet(alpha);\n",
    "p = rand(dirichlet);\n",
    "\n",
    "# generara calidades de los alumnos en\n",
    "# diccionario con keyword N in {1..N}\n",
    "calidades_sample = Dict(string(i) => rand(Multinomial(i,p)) for i = 10:10:N_max);"
   ]
  },
  {
   "cell_type": "code",
   "execution_count": 72,
   "metadata": {},
   "outputs": [
    {
     "name": "stderr",
     "output_type": "stream",
     "text": [
      "WARNING: redefining constant MultinomialBayesian\n",
      "WARNING: redefining constant MultinomialData\n"
     ]
    }
   ],
   "source": [
    "# Stan style\n",
    "alpha = ones(7);\n",
    "tmp = \"/Users/juanpablodonosomerlet/Desktop/IOperaciones/Tareas/Tarea2/notebook/tmp/\";\n",
    "const MultinomialBayesian = \"\n",
    "data{\n",
    "    int<lower=0> N;\n",
    "    int <lower=0,upper=N> q[7];\n",
    "    vector[7] alpha;\n",
    "}\n",
    "parameters{\n",
    "    simplex[7] p;\n",
    "}\n",
    "model{\n",
    "    p ~ dirichlet(alpha);\n",
    "    q ~ multinomial(p); \n",
    "}\n",
    "\";\n",
    "stanmodel = Stanmodel(name = \"posterior_model\", model = MultinomialBayesian);\n",
    "const MultinomialData = Dict(\"N\" => N_max, \"q\" => calidades_sample[string(N_max)], \"alpha\" => alpha);"
   ]
  },
  {
   "cell_type": "code",
   "execution_count": 73,
   "metadata": {},
   "outputs": [
    {
     "name": "stdout",
     "output_type": "stream",
     "text": [
      "\n",
      "make: `/Users/juanpablodonosomerlet/Desktop/cmdstan/tmp/posterior_model' is up to date.\n",
      "\n",
      "Length of data array is not equal to nchains,\n",
      "all chains will use the first data dictionary.\n",
      "\n",
      "Calling /Users/juanpablodonosomerlet/Desktop/cmdstan/bin/stansummary to infer across chains.\n",
      "\n",
      "Inference for Stan model: posterior_model_model\n",
      "4 chains: each with iter=(1000,1000,1000,1000); warmup=(0,0,0,0); thin=(1,1,1,1); 4000 iterations saved.\n",
      "\n",
      "Warmup took (0.12, 0.11, 0.12, 0.13) seconds, 0.47 seconds total\n",
      "Sampling took (0.13, 0.13, 0.13, 0.14) seconds, 0.53 seconds total\n",
      "\n",
      "                    Mean     MCSE   StdDev        5%       50%    95%    N_Eff  N_Eff/s    R_hat\n",
      "lp__            -1.7e+02  4.4e-02  1.8e+00  -1.8e+02  -1.7e+02   -172  1.7e+03  3.2e+03  1.0e+00\n",
      "accept_stat__    9.1e-01  4.9e-03  1.1e-01   6.9e-01   9.5e-01    1.0  5.4e+02  1.0e+03  1.0e+00\n",
      "stepsize__       6.2e-01  3.6e-02  5.1e-02   5.8e-01   6.3e-01   0.70  2.0e+00  3.8e+00  5.0e+13\n",
      "treedepth__      2.8e+00  1.5e-02  4.2e-01   2.0e+00   3.0e+00    3.0  7.6e+02  1.4e+03  1.0e+00\n",
      "n_leapfrog__     6.5e+00  3.9e-02  1.4e+00   3.0e+00   7.0e+00    7.0  1.2e+03  2.3e+03  1.0e+00\n",
      "divergent__      0.0e+00      nan  0.0e+00   0.0e+00   0.0e+00   0.00      nan      nan      nan\n",
      "energy__         1.8e+02  6.4e-02  2.5e+00   1.7e+02   1.8e+02    182  1.5e+03  2.9e+03  1.0e+00\n",
      "p[1]             1.3e-01  4.0e-04  3.3e-02   8.3e-02   1.3e-01   0.19  7.0e+03  1.3e+04  1.0e+00\n",
      "p[2]             4.3e-01  6.1e-04  4.8e-02   3.5e-01   4.3e-01   0.51  6.2e+03  1.2e+04  1.0e+00\n",
      "p[3]             1.7e-01  5.1e-04  3.6e-02   1.1e-01   1.7e-01   0.23  5.2e+03  9.8e+03  1.0e+00\n",
      "p[4]             1.0e-01  3.8e-04  3.0e-02   5.9e-02   1.0e-01   0.16  6.1e+03  1.2e+04  1.0e+00\n",
      "p[5]             9.4e-03  1.3e-04  9.2e-03   4.8e-04   6.8e-03  0.028  5.1e+03  9.6e+03  1.0e+00\n",
      "p[6]             1.0e-01  3.7e-04  3.0e-02   5.8e-02   1.0e-01   0.16  6.6e+03  1.2e+04  1.0e+00\n",
      "p[7]             5.6e-02  2.8e-04  2.2e-02   2.5e-02   5.3e-02  0.096  6.0e+03  1.1e+04  1.0e+00\n",
      "\n",
      "Samples were drawn using hmc with nuts.\n",
      "For each parameter, N_Eff is a crude measure of effective sample size,\n",
      "and R_hat is the potential scale reduction factor on split chains (at \n",
      "convergence, R_hat=1).\n",
      "\n"
     ]
    }
   ],
   "source": [
    "rc, sim1 = stan(stanmodel, [MultinomialData], tmp, CmdStanDir=CMDSTAN_HOME);"
   ]
  },
  {
   "cell_type": "code",
   "execution_count": 75,
   "metadata": {},
   "outputs": [
    {
     "data": {
      "text/plain": [
       "0"
      ]
     },
     "execution_count": 75,
     "metadata": {},
     "output_type": "execute_result"
    }
   ],
   "source": [
    "rc"
   ]
  },
  {
   "cell_type": "code",
   "execution_count": 74,
   "metadata": {},
   "outputs": [
    {
     "name": "stdout",
     "output_type": "stream",
     "text": [
      "[0.18145, 0.320676, 0.174876, 0.0939034, 0.0276957, 0.153459, 0.0479403]"
     ]
    }
   ],
   "source": [
    "print(p)"
   ]
  },
  {
   "cell_type": "code",
   "execution_count": 86,
   "metadata": {},
   "outputs": [
    {
     "data": {
      "text/plain": []
     },
     "metadata": {},
     "output_type": "display_data"
    },
    {
     "name": "stdout",
     "output_type": "stream",
     "text": [
      "  name =                    \"bernoulli\"\n",
      "  nchains =                 4\n",
      "  num_samples =             1000\n",
      "  num_warmup =                   1000\n",
      "  thin =                    1\n",
      "  useMamba =                true\n",
      "  mambaThinning =           1\n",
      "  monitors =                String[]\n",
      "  model_file =              \"bernoulli.stan\"\n",
      "  data_file =               \"\"\n",
      "  output =                  Output()\n",
      "    file =                    \"\"\n",
      "    diagnostics_file =        \"\"\n",
      "    refresh =                 100\n",
      "  method =                  Sample()\n",
      "    num_samples =             1000\n",
      "    num_warmup =              1000\n",
      "    save_warmup =             false\n",
      "    thin =                    1\n",
      "    algorithm =               HMC()\n",
      "      engine =                  NUTS()\n",
      "        max_depth =               10\n",
      "      metric =                  Stan.diag_e\n",
      "      stepsize =                1.0\n",
      "      stepsize_jitter =         1.0\n",
      "    adapt =                   Adapt()\n",
      "      gamma =                   0.05\n",
      "      delta =                   0.8\n",
      "      kappa =                   0.75\n",
      "      t0 =                      10.0\n",
      "      init_buffer =             75\n",
      "      term_buffer =             50\n",
      "      window =                  25\n",
      "\n",
      "make: `/Users/juanpablodonosomerlet/Desktop/cmdstan/tmp/bernoulli' is up to date.\n",
      "\n",
      "Length of data array is not equal to nchains,\n",
      "all chains will use the first data dictionary.\n",
      "\n",
      "Calling /Users/juanpablodonosomerlet/Desktop/cmdstan/bin/stansummary to infer across chains.\n",
      "\n",
      "Inference for Stan model: bernoulli_model\n",
      "4 chains: each with iter=(1000,1000,1000,1000); warmup=(0,0,0,0); thin=(1,1,1,1); 4000 iterations saved.\n",
      "\n",
      "Warmup took (0.023, 0.023, 0.024, 0.021) seconds, 0.091 seconds total\n",
      "Sampling took (0.046, 0.046, 0.045, 0.044) seconds, 0.18 seconds total\n",
      "\n",
      "                Mean     MCSE  StdDev    5%   50%   95%    N_Eff  N_Eff/s    R_hat\n",
      "lp__            -8.2  2.0e-02    0.77  -9.7  -7.9  -7.6  1.4e+03  7.8e+03  1.0e+00\n",
      "accept_stat__   0.91  2.0e-03    0.13  0.62  0.97   1.0  4.3e+03  2.4e+04  1.0e+00\n",
      "stepsize__       1.1  5.3e-02   0.075  0.99   1.1   1.2  2.0e+00  1.1e+01  3.8e+13\n",
      "treedepth__      1.4  7.9e-03    0.49   1.0   1.0   2.0  3.8e+03  2.1e+04  1.0e+00\n",
      "n_leapfrog__     2.4  3.9e-02     1.2   1.0   3.0   3.0  9.1e+02  5.0e+03  1.0e+00\n",
      "divergent__     0.00      nan    0.00  0.00  0.00  0.00      nan      nan      nan\n",
      "energy__         8.7  2.8e-02     1.1   7.7   8.4    11  1.4e+03  7.8e+03  1.0e+00\n",
      "theta           0.33  3.4e-03    0.13  0.13  0.32  0.56  1.5e+03  8.4e+03  1.0e+00\n",
      "\n",
      "Samples were drawn using hmc with nuts.\n",
      "For each parameter, N_Eff is a crude measure of effective sample size,\n",
      "and R_hat is the potential scale reduction factor on split chains (at \n",
      "convergence, R_hat=1).\n",
      "\n"
     ]
    },
    {
     "name": "stderr",
     "output_type": "stream",
     "text": [
      "WARNING: redefining constant bernoullistanmodel\n",
      "WARNING: redefining constant bernoullidata\n"
     ]
    }
   ],
   "source": [
    "const bernoullistanmodel = \"\n",
    "data { \n",
    "  int<lower=0> N; \n",
    "  int<lower=0,upper=1> y[N];\n",
    "} \n",
    "parameters {\n",
    "  real<lower=0,upper=1> theta;\n",
    "} \n",
    "model {\n",
    "  theta ~ beta(1,1);\n",
    "    y ~ bernoulli(theta);\n",
    "}\n",
    "\";\n",
    "\n",
    "stanmodel_bernoulli = Stanmodel(name=\"bernoulli\", model=bernoullistanmodel);\n",
    "stanmodel_bernoulli |> display\n",
    "\n",
    "const bernoullidata = Dict(\"N\" => 10, \"y\" => [0, 1, 0, 1, 0, 0, 0, 0, 0, 1]);\n",
    "\n",
    "rc, sim1 = stan(stanmodel_bernoulli, [bernoullidata], tmp, CmdStanDir=CMDSTAN_HOME);"
   ]
  },
  {
   "cell_type": "code",
   "execution_count": 93,
   "metadata": {},
   "outputs": [
    {
     "name": "stdout",
     "output_type": "stream",
     "text": [
      "Iterations = 1:1000\n",
      "Thinning interval = 1\n",
      "Chains = 1,2,3,4\n",
      "Samples per chain = 1000\n",
      "\n",
      "Empirical Posterior Estimates:\n",
      "                  Mean        SD       Naive SE       MCSE      ESS\n",
      "         lp__ -8.17559237 0.76912668 0.0121609606 0.0183108070 1000\n",
      "        theta  0.33219278 0.13136899 0.0020771262 0.0035998555 1000\n",
      "accept_stat__  0.91451183 0.13219435 0.0020901761 0.0032568890 1000\n",
      "\n",
      "Quantiles:\n",
      "                  2.5%        25.0%       50.0%      75.0%       97.5%  \n",
      "         lp__ -10.40770500 -8.35713000 -7.8742850 -7.69213000 -7.6386795\n",
      "        theta   0.10355265  0.23507725  0.3244235  0.41952475  0.6039302\n",
      "accept_stat__   0.51001520  0.88532050  0.9715015  1.00000000  1.0000000\n",
      "\n"
     ]
    }
   ],
   "source": [
    "\n",
    "sim = sim1[1:1000, [\"lp__\", \"theta\", \"accept_stat__\"], :];\n",
    "describe(sim)"
   ]
  },
  {
   "cell_type": "code",
   "execution_count": 101,
   "metadata": {},
   "outputs": [
    {
     "name": "stdout",
     "output_type": "stream",
     "text": [
      "\n",
      "make: `/Users/juanpablodonosomerlet/Desktop/cmdstan/tmp/bernoulli' is up to date.\n",
      "\n",
      "Length of data array is not equal to nchains,\n",
      "all chains will use the first data dictionary.\n",
      "\n",
      "Calling /Users/juanpablodonosomerlet/Desktop/cmdstan/bin/stansummary to infer across chains.\n",
      "\n",
      "Inference for Stan model: bernoulli_model\n",
      "4 chains: each with iter=(1000,1000,1000,1000); warmup=(0,0,0,0); thin=(1,1,1,1); 4000 iterations saved.\n",
      "\n",
      "Warmup took (0.024, 0.023, 0.022, 0.023) seconds, 0.092 seconds total\n",
      "Sampling took (0.045, 0.047, 0.042, 0.041) seconds, 0.18 seconds total\n",
      "\n",
      "                Mean     MCSE  StdDev    5%   50%   95%    N_Eff  N_Eff/s    R_hat\n",
      "lp__            -8.2  1.9e-02    0.77  -9.7  -7.9  -7.6  1.6e+03  9.3e+03  1.0e+00\n",
      "accept_stat__   0.91  3.2e-03    0.14  0.62  0.97   1.0  1.8e+03  1.0e+04  1.0e+00\n",
      "stepsize__       1.1  9.3e-02    0.13  0.85   1.1   1.2  2.0e+00  1.1e+01  9.2e+13\n",
      "treedepth__      1.4  8.4e-03    0.49   1.0   1.0   2.0  3.4e+03  2.0e+04  1.0e+00\n",
      "n_leapfrog__     2.5  6.4e-02     1.2   1.0   3.0   3.0  3.6e+02  2.1e+03  1.0e+00\n",
      "divergent__     0.00      nan    0.00  0.00  0.00  0.00      nan      nan      nan\n",
      "energy__         8.7  2.8e-02     1.1   7.7   8.3    11  1.5e+03  8.3e+03  1.0e+00\n",
      "theta           0.34  3.5e-03    0.13  0.13  0.33  0.57  1.5e+03  8.2e+03  1.0e+00\n",
      "\n",
      "Samples were drawn using hmc with nuts.\n",
      "For each parameter, N_Eff is a crude measure of effective sample size,\n",
      "and R_hat is the potential scale reduction factor on split chains (at \n",
      "convergence, R_hat=1).\n",
      "\n",
      "Iterations = 1:1000\n",
      "Thinning interval = 1\n",
      "Chains = 1,2,3,4\n",
      "Samples per chain = 1000\n",
      "\n",
      "Empirical Posterior Estimates:\n",
      "                  Mean        SD       Naive SE       MCSE         ESS    \n",
      "         lp__ -8.16962824 0.76736833 0.0121331587 0.0221091986 1000.000000\n",
      "accept_stat__  0.91181933 0.13678517 0.0021627634 0.0034098084 1000.000000\n",
      "   stepsize__  1.06319775 0.13103777 0.0020718891 0.0209802132   39.009752\n",
      "  treedepth__  1.39725000 0.49346055 0.0078022963 0.0091286215 1000.000000\n",
      " n_leapfrog__  2.48450000 1.22132414 0.0193108302 0.0391478951  973.296252\n",
      "  divergent__  0.00000000 0.00000000 0.0000000000 0.0000000000         NaN\n",
      "     energy__  8.68832734 1.08337403 0.0171296475 0.0315437221 1000.000000\n",
      "        theta  0.33740070 0.13175550 0.0020832374 0.0028665056 1000.000000\n",
      "\n",
      "Quantiles:\n",
      "                  2.5%        25.0%       50.0%      75.0%       97.5%   \n",
      "         lp__ -10.46974000 -8.32450250 -7.8746250 -7.68841750 -7.63873000\n",
      "accept_stat__   0.50409883  0.88266675  0.9703675  1.00000000  1.00000000\n",
      "   stepsize__   0.84834100  1.01449525  1.1086450  1.15734750  1.18716000\n",
      "  treedepth__   1.00000000  1.00000000  1.0000000  2.00000000  2.00000000\n",
      " n_leapfrog__   1.00000000  1.00000000  3.0000000  3.00000000  7.00000000\n",
      "  divergent__   0.00000000  0.00000000  0.0000000  0.00000000  0.00000000\n",
      "     energy__   7.66315025  7.91640000  8.3372300  9.09782000 11.76947750\n",
      "        theta   0.10500550  0.24312575  0.3274065  0.42697075  0.61316175\n",
      "\n",
      "Subset Sampler Output\n",
      "Iterations = 1:1000\n",
      "Thinning interval = 1\n",
      "Chains = 1,2,3,4\n",
      "Samples per chain = 1000\n",
      "\n",
      "Empirical Posterior Estimates:\n",
      "                  Mean        SD       Naive SE       MCSE      ESS\n",
      "         lp__ -8.16962824 0.76736833 0.0121331587 0.0221091986 1000\n",
      "        theta  0.33740070 0.13175550 0.0020832374 0.0028665056 1000\n",
      "accept_stat__  0.91181933 0.13678517 0.0021627634 0.0034098084 1000\n",
      "\n",
      "Quantiles:\n",
      "                  2.5%        25.0%       50.0%      75.0%       97.5%   \n",
      "         lp__ -10.46974000 -8.32450250 -7.8746250 -7.68841750 -7.63873000\n",
      "        theta   0.10500550  0.24312575  0.3274065  0.42697075  0.61316175\n",
      "accept_stat__   0.50409883  0.88266675  0.9703675  1.00000000  1.00000000\n",
      "\n"
     ]
    }
   ],
   "source": [
    "if rc == 0\n",
    "    rc1,sim1 = stan(stanmodel_bernoulli, [bernoullidata], tmp, CmdStanDir=CMDSTAN_HOME);\n",
    "    describe(sim1)\n",
    "    println(\"Subset Sampler Output\")\n",
    "    sim = sim1[1:1000, [\"lp__\", \"theta\", \"accept_stat__\"], :]\n",
    "    describe(sim)\n",
    "end"
   ]
  },
  {
   "cell_type": "code",
   "execution_count": 103,
   "metadata": {},
   "outputs": [
    {
     "data": {
      "text/plain": [
       "               PSRF 97.5%\n",
       "         lp__ 1.000 1.000\n",
       "        theta 1.001 1.003\n",
       "accept_stat__ 1.047 1.085\n",
       " Multivariate 1.036   NaN\n",
       "\n"
      ]
     },
     "metadata": {},
     "output_type": "display_data"
    },
    {
     "name": "stdout",
     "output_type": "stream",
     "text": [
      "Brooks, Gelman and Rubin Convergence Diagnostic\n"
     ]
    }
   ],
   "source": [
    "println(\"Brooks, Gelman and Rubin Convergence Diagnostic\")\n",
    "try\n",
    "  gelmandiag(sim, mpsrf=true, transform=true) |> display\n",
    "catch e\n",
    "  #println(e)\n",
    "  gelmandiag(sim, mpsrf=false, transform=true) |> display\n",
    "end"
   ]
  },
  {
   "cell_type": "code",
   "execution_count": 107,
   "metadata": {},
   "outputs": [
    {
     "ename": "LoadError",
     "evalue": "\u001b[91mUndefVarError: set_default_plot_size not defined\u001b[39m",
     "output_type": "error",
     "traceback": [
      "\u001b[91mUndefVarError: set_default_plot_size not defined\u001b[39m",
      "",
      "Stacktrace:",
      " [1] \u001b[1minclude_string\u001b[22m\u001b[22m\u001b[1m(\u001b[22m\u001b[22m::String, ::String\u001b[1m)\u001b[22m\u001b[22m at \u001b[1m./loading.jl:522\u001b[22m\u001b[22m"
     ]
    }
   ],
   "source": [
    "p = plot(sim, [:trace, :mean, :density, :autocor], legend=true); \n",
    "draw(p, ncol=4, filename=\"summaryplot\", fmt=:svg)\n",
    "draw(p, ncol=4, filename=\"summaryplot\", fmt=:pdf)"
   ]
  },
  {
   "cell_type": "code",
   "execution_count": null,
   "metadata": {
    "collapsed": true
   },
   "outputs": [],
   "source": []
  }
 ],
 "metadata": {
  "kernelspec": {
   "display_name": "Julia 0.6.2",
   "language": "julia",
   "name": "julia-0.6"
  },
  "language_info": {
   "file_extension": ".jl",
   "mimetype": "application/julia",
   "name": "julia",
   "version": "0.6.2"
  }
 },
 "nbformat": 4,
 "nbformat_minor": 2
}
